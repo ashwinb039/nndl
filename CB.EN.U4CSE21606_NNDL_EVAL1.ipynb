
    import pandas as pd
    import numpy as np
    from sklearn.model_selection import train_test_split
    from sklearn.preprocessing import StandardScaler
    from sklearn.preprocessing import LabelEncoder
    from tensorflow import keras
    from tensorflow.keras import layers
    import matplotlib.pyplot as plt
    
    df = pd.read_csv('CTG.csv')
    unwanted_features = ["FileName", "Date", "SegFile", "b", "e", "A", "B", "C", "D", "E", "AD", "DE", "LD", "FS", "SUSP"]
    df = df.drop(columns=unwanted_features)
    df = df.dropna()
    label_encoder = LabelEncoder()
    df['NSP'] = label_encoder.fit_transform(df['NSP'])
    X = df.drop(columns=['NSP'])
  

